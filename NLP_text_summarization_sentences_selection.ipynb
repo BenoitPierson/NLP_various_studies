{
 "cells": [
  {
   "cell_type": "markdown",
   "metadata": {},
   "source": [
    "# Text summarization (Sentences selection)\n",
    "https://medium.com/datadriveninvestor/simple-text-summarizer-using-nlp-d8aaf5828e68"
   ]
  },
  {
   "cell_type": "markdown",
   "metadata": {},
   "source": [
    "- This summarization technique consists in scoring every sentences (by summing words' scores) and selecting only the n-top scored sentences\n",
    "\n",
    "- Score(word) = Term frequency in input text\n",
    "\n",
    "- Benefits : \n",
    "    - Preserves the grammatical structure of the text (because the selected sentences are unchanged)\n",
    "    - Easy to understand (low complexity)\n",
    "\n",
    "- Drawbacks : \n",
    "    - Scoring method do not consider the sentence as a whole but as a list of independant words\n",
    "    - Sentences's importance evaluation subject of discussion :\n",
    "        - Is the sum of words' frequency in a sentence relevant for sentence importance ?\n",
    "        - A long sentence is more likely to be selected because you sum up many terms' frequency, is it relevant ?"
   ]
  },
  {
   "cell_type": "markdown",
   "metadata": {},
   "source": [
    "### 1 : Libraries import"
   ]
  },
  {
   "cell_type": "code",
   "execution_count": 1,
   "metadata": {},
   "outputs": [],
   "source": [
    "import numpy as np\n",
    "import pandas as pd\n",
    "import nltk\n",
    "from nltk.corpus import stopwords\n",
    "from nltk.tokenize import word_tokenize, sent_tokenize\n",
    "from string import punctuation\n",
    "from heapq import nlargest\n",
    "from collections import defaultdict"
   ]
  },
  {
   "cell_type": "code",
   "execution_count": 2,
   "metadata": {},
   "outputs": [],
   "source": [
    "stop_words = stopwords.words('french') + stopwords.words('english')"
   ]
  },
  {
   "cell_type": "markdown",
   "metadata": {},
   "source": [
    "### 2 : Text to summarize"
   ]
  },
  {
   "cell_type": "code",
   "execution_count": 3,
   "metadata": {},
   "outputs": [],
   "source": [
    "#text_2_summarize = 'The 2020 London Marathon will involve only elite athletes, with 45000 mass-event runners unable to take part because of coronavirus concerns. The much-anticipated contest between Kenya\\'s Eliud Kipchoge and Ethiopian Kenenisa Bekele will take place on a bio-secure closed course. Reduced fields of 30-40 athletes will also compete for the elite women\\'s and wheelchair titles on 4 October. The 2021 race, meanwhile, will be on 3 October rather than a date in April. That calendar shift from the traditional date is designed to maximise the chances of all runners being able to take part in next year\\'s race.'\n",
    "text_2_summarize = 'Le marathon de Londres 2020 impliquera uniquement des athlètes d\\'élite, avec 45000 coureurs de \\'\\' mass-event \\'\\' incapables de participer en raison de problèmes de coronavirus. Le concours tant attendu entre Eliud Kipchoge du Kenya et l\\'Ethiopien Kenenisa Bekele devait se dérouler sur un parcours fermé biosécurité. Des pelotons réduits de 30 à 40 athlètes concourront également pour les titres élite féminins et en fauteuil roulant. La course 2021, quant à elle, aura lieu le 3 octobre plutôt qu\\'une date en avril. Ce changement de calendrier par rapport à la date traditionnelle est conçu pour maximiser les chances de tous les coureurs de participer à la course de l\\'année prochaine.'"
   ]
  },
  {
   "cell_type": "code",
   "execution_count": 4,
   "metadata": {},
   "outputs": [
    {
     "data": {
      "text/plain": [
       "\"Le marathon de Londres 2020 impliquera uniquement des athlètes d'élite, avec 45000 coureurs de '' mass-event '' incapables de participer en raison de problèmes de coronavirus. Le concours tant attendu entre Eliud Kipchoge du Kenya et l'Ethiopien Kenenisa Bekele devait se dérouler sur un parcours fermé biosécurité. Des pelotons réduits de 30 à 40 athlètes concourront également pour les titres élite féminins et en fauteuil roulant. La course 2021, quant à elle, aura lieu le 3 octobre plutôt qu'une date en avril. Ce changement de calendrier par rapport à la date traditionnelle est conçu pour maximiser les chances de tous les coureurs de participer à la course de l'année prochaine.\""
      ]
     },
     "execution_count": 4,
     "metadata": {},
     "output_type": "execute_result"
    }
   ],
   "source": [
    "text_2_summarize"
   ]
  },
  {
   "cell_type": "markdown",
   "metadata": {},
   "source": [
    "### 3 : Words' tokenization & processing (cleaning)"
   ]
  },
  {
   "cell_type": "code",
   "execution_count": 5,
   "metadata": {},
   "outputs": [
    {
     "name": "stdout",
     "output_type": "stream",
     "text": [
      "['le', 'marathon', 'de', 'londres', '2020', 'impliquera', 'uniquement', 'des', 'athlètes', \"d'élite,\", 'avec', '45000', 'coureurs', 'de', \"''\", 'mass-event', \"''\", 'incapables', 'de', 'participer', 'en', 'raison', 'de', 'problèmes', 'de', 'coronavirus.', 'le', 'concours', 'tant', 'attendu', 'entre', 'eliud', 'kipchoge', 'du', 'kenya', 'et', \"l'ethiopien\", 'kenenisa', 'bekele', 'devait', 'se', 'dérouler', 'sur', 'un', 'parcours', 'fermé', 'biosécurité.', 'des', 'pelotons', 'réduits', 'de', '30', 'à', '40', 'athlètes', 'concourront', 'également', 'pour', 'les', 'titres', 'élite', 'féminins', 'et', 'en', 'fauteuil', 'roulant.', 'la', 'course', '2021,', 'quant', 'à', 'elle,', 'aura', 'lieu', 'le', '3', 'octobre', 'plutôt', \"qu'une\", 'date', 'en', 'avril.', 'ce', 'changement', 'de', 'calendrier', 'par', 'rapport', 'à', 'la', 'date', 'traditionnelle', 'est', 'conçu', 'pour', 'maximiser', 'les', 'chances', 'de', 'tous', 'les', 'coureurs', 'de', 'participer', 'à', 'la', 'course', 'de', \"l'année\", 'prochaine.']\n"
     ]
    }
   ],
   "source": [
    "text_2_summarize = text_2_summarize.lower()\n",
    "tokens = [t for t in text_2_summarize.split()]\n",
    "print(tokens)"
   ]
  },
  {
   "cell_type": "code",
   "execution_count": 6,
   "metadata": {},
   "outputs": [
    {
     "name": "stdout",
     "output_type": "stream",
     "text": [
      "['marathon', 'londres', '2020', 'impliquera', 'uniquement', 'athlètes', \"d'élite,\", '45000', 'coureurs', \"''\", 'mass-event', \"''\", 'incapables', 'participer', 'raison', 'problèmes', 'coronavirus.', 'concours', 'tant', 'attendu', 'entre', 'eliud', 'kipchoge', 'kenya', \"l'ethiopien\", 'kenenisa', 'bekele', 'devait', 'dérouler', 'parcours', 'fermé', 'biosécurité.', 'pelotons', 'réduits', '30', '40', 'athlètes', 'concourront', 'également', 'titres', 'élite', 'féminins', 'fauteuil', 'roulant.', 'course', '2021,', 'quant', 'elle,', 'lieu', '3', 'octobre', 'plutôt', \"qu'une\", 'date', 'avril.', 'changement', 'calendrier', 'rapport', 'date', 'traditionnelle', 'conçu', 'maximiser', 'chances', 'tous', 'coureurs', 'participer', 'course', \"l'année\", 'prochaine.']\n"
     ]
    }
   ],
   "source": [
    "clean_token = tokens[:]\n",
    "stopword = set(stop_words + list(punctuation))\n",
    "\n",
    "for token in tokens:\n",
    "    if token in stopword:\n",
    "        clean_token.remove(token)\n",
    "\n",
    "print(clean_token)"
   ]
  },
  {
   "cell_type": "markdown",
   "metadata": {},
   "source": [
    "### 4 : Frequency distribution of the n most common words (= Bag of words)"
   ]
  },
  {
   "cell_type": "code",
   "execution_count": 7,
   "metadata": {},
   "outputs": [
    {
     "name": "stdout",
     "output_type": "stream",
     "text": [
      "[('athlètes', 2), ('coureurs', 2), (\"''\", 2), ('participer', 2), ('course', 2), ('date', 2), ('marathon', 1), ('londres', 1), ('2020', 1), ('impliquera', 1), ('uniquement', 1), (\"d'élite,\", 1), ('45000', 1), ('mass-event', 1), ('incapables', 1), ('raison', 1), ('problèmes', 1), ('coronavirus.', 1), ('concours', 1), ('tant', 1)]\n"
     ]
    }
   ],
   "source": [
    "freq = nltk.FreqDist(clean_token)\n",
    "top_words = []\n",
    "top_words = freq.most_common(20)\n",
    "print(top_words)"
   ]
  },
  {
   "cell_type": "markdown",
   "metadata": {},
   "source": [
    "### 5 : Sentences tokenization"
   ]
  },
  {
   "cell_type": "code",
   "execution_count": 8,
   "metadata": {},
   "outputs": [
    {
     "name": "stdout",
     "output_type": "stream",
     "text": [
      "[\"le marathon de londres 2020 impliquera uniquement des athlètes d'élite, avec 45000 coureurs de '' mass-event '' incapables de participer en raison de problèmes de coronavirus.\", \"le concours tant attendu entre eliud kipchoge du kenya et l'ethiopien kenenisa bekele devait se dérouler sur un parcours fermé biosécurité.\", 'des pelotons réduits de 30 à 40 athlètes concourront également pour les titres élite féminins et en fauteuil roulant.', \"la course 2021, quant à elle, aura lieu le 3 octobre plutôt qu'une date en avril.\", \"ce changement de calendrier par rapport à la date traditionnelle est conçu pour maximiser les chances de tous les coureurs de participer à la course de l'année prochaine.\"]\n"
     ]
    }
   ],
   "source": [
    "sentences = sent_tokenize(text_2_summarize)\n",
    "print(sentences)"
   ]
  },
  {
   "cell_type": "markdown",
   "metadata": {},
   "source": [
    "### 6 : Sentences ranking"
   ]
  },
  {
   "cell_type": "code",
   "execution_count": 9,
   "metadata": {},
   "outputs": [
    {
     "name": "stdout",
     "output_type": "stream",
     "text": [
      "[4, 0, 1, 2, 3]\n"
     ]
    }
   ],
   "source": [
    "ranking = defaultdict(int)\n",
    "\n",
    "for i, sent in enumerate(sentences):\n",
    "    for word in word_tokenize(sent.lower()):\n",
    "        if word in freq:\n",
    "            ranking[i] += freq[word]\n",
    "    top_sentences_index = nlargest(10, ranking, ranking.get)\n",
    "    \n",
    "print(top_sentences_index)"
   ]
  },
  {
   "cell_type": "markdown",
   "metadata": {},
   "source": [
    "### 7 : Resume printing by sentences selection"
   ]
  },
  {
   "cell_type": "code",
   "execution_count": 10,
   "metadata": {},
   "outputs": [
    {
     "name": "stdout",
     "output_type": "stream",
     "text": [
      "[\"le marathon de londres 2020 impliquera uniquement des athlètes d'élite, avec 45000 coureurs de '' mass-event '' incapables de participer en raison de problèmes de coronavirus.\", \"le concours tant attendu entre eliud kipchoge du kenya et l'ethiopien kenenisa bekele devait se dérouler sur un parcours fermé biosécurité.\", 'des pelotons réduits de 30 à 40 athlètes concourront également pour les titres élite féminins et en fauteuil roulant.', \"la course 2021, quant à elle, aura lieu le 3 octobre plutôt qu'une date en avril.\", \"ce changement de calendrier par rapport à la date traditionnelle est conçu pour maximiser les chances de tous les coureurs de participer à la course de l'année prochaine.\"]\n"
     ]
    }
   ],
   "source": [
    "summary = [sentences[j] for j in sorted(top_sentences_index)]\n",
    "print(summary)"
   ]
  },
  {
   "cell_type": "markdown",
   "metadata": {},
   "source": [
    "### 8 : Selection of important words in the selected sentences"
   ]
  },
  {
   "cell_type": "code",
   "execution_count": 26,
   "metadata": {},
   "outputs": [],
   "source": [
    "summary_2 = []\n",
    "\n",
    "for sent in summary:\n",
    "    word_selected_in_sent = []\n",
    "    \n",
    "    for word in sent.split():\n",
    "        if word.lower() not in stopword:\n",
    "            word_selected_in_sent.append(word)\n",
    "\n",
    "    summary_2.append(\" \".join(word_selected_in_sent))"
   ]
  },
  {
   "cell_type": "code",
   "execution_count": 39,
   "metadata": {},
   "outputs": [
    {
     "data": {
      "text/plain": [
       "[\"marathon londres 2020 impliquera uniquement athlètes d'élite, 45000 coureurs '' mass-event '' incapables participer raison problèmes coronavirus.\",\n",
       " \"concours tant attendu entre eliud kipchoge kenya l'ethiopien kenenisa bekele devait dérouler parcours fermé biosécurité.\",\n",
       " 'pelotons réduits 30 40 athlètes concourront également titres élite féminins fauteuil roulant.',\n",
       " \"course 2021, quant elle, lieu 3 octobre plutôt qu'une date avril.\",\n",
       " \"changement calendrier rapport date traditionnelle conçu maximiser chances tous coureurs participer course l'année prochaine.\"]"
      ]
     },
     "execution_count": 39,
     "metadata": {},
     "output_type": "execute_result"
    }
   ],
   "source": [
    "summary_2"
   ]
  },
  {
   "cell_type": "code",
   "execution_count": null,
   "metadata": {},
   "outputs": [],
   "source": []
  },
  {
   "cell_type": "code",
   "execution_count": null,
   "metadata": {},
   "outputs": [],
   "source": []
  },
  {
   "cell_type": "code",
   "execution_count": null,
   "metadata": {},
   "outputs": [],
   "source": []
  }
 ],
 "metadata": {
  "kernelspec": {
   "display_name": "Python 3",
   "language": "python",
   "name": "python3"
  },
  "language_info": {
   "codemirror_mode": {
    "name": "ipython",
    "version": 3
   },
   "file_extension": ".py",
   "mimetype": "text/x-python",
   "name": "python",
   "nbconvert_exporter": "python",
   "pygments_lexer": "ipython3",
   "version": "3.8.2"
  }
 },
 "nbformat": 4,
 "nbformat_minor": 4
}
